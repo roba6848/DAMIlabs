{
 "cells": [
  {
   "cell_type": "markdown",
   "metadata": {},
   "source": [
    "# Lab 1-a: Epidemiological models with Python"
   ]
  },
  {
   "cell_type": "markdown",
   "metadata": {},
   "source": [
    "In this lab we will use Python to see how we can model and plot basic epidemiological models.\n",
    "We will explore the SIR epidemic model without vital dynamics(wiki link: https://en.wikipedia.org/wiki/Compartmental_models_in_epidemiology), see how we can use the scipy library to solve ordinary differential equations and finally we will plot our model. "
   ]
  },
  {
   "cell_type": "markdown",
   "metadata": {},
   "source": [
    "## **SIR - Susceptible, Exposed, Infected**"
   ]
  },
  {
   "cell_type": "markdown",
   "metadata": {},
   "source": [
    "\n",
    "\n",
    "*The SIR model describes the change in the population of each of these compartments in terms of two parameters, $\\beta$ and $\\gamma$*\n",
    "\n",
    "\n",
    "$\\frac{dS}{dt} = -\\beta*I*\\frac{S}{N}$\n",
    "\n",
    "$\\frac{dI}{dt} = -\\beta*I*\\frac{S}{N} - \\gamma*I$\n",
    "\n",
    "$\\frac{dI}{dt} = \\gamma*I$\n",
    "\n",
    "$\\beta$: The infectious rate, controls the rate of spread which represents the probability of transmitting disease between a susceptible and an infectious individual.\n",
    "\n",
    "\n",
    "$\\gamma$ is the mean recovery rate: that is, $\\frac{1}{\\gamma}$ is the mean period of time during which an infected individual can pass it on.\n",
    "\n",
    "\n",
    "\n",
    "\n",
    "\n",
    "\n"
   ]
  },
  {
   "cell_type": "markdown",
   "metadata": {},
   "source": [
    "The SIR model, divides the (fixed) a population,  into three \"compartments\" which vary as a function of time, t:\n",
    "\n",
    "1. S(t) are those susceptible but not yet infected with the disease;\n",
    "2. I(t) is the number of infectious individuals;\n",
    "3. R(t) are those individuals who have recovered from the disease and now have immunity to it.\n",
    "\n"
   ]
  },
  {
   "cell_type": "markdown",
   "metadata": {},
   "source": [
    "## Ordinary differential equations (ODEs)\n",
    "\n",
    "\n",
    "A differential equation is simply an equation, or a set of equations, whose unknowns are functions which must satisfy, an equation involving both the function and it's derivatives. \n",
    "\n",
    "\n",
    "In the case of epidemiological models they essentially denote how the population changes over time. \n",
    "\n",
    "To solve an ODE, we must simply undo the derivative.\n",
    "To do that we'll use the function odeint from scipy, which  it's  going to do the job for us and solve the ODEs\n",
    "\n",
    "\n"
   ]
  },
  {
   "cell_type": "markdown",
   "metadata": {},
   "source": []
  },
  {
   "cell_type": "code",
   "execution_count": null,
   "metadata": {},
   "outputs": [],
   "source": [
    "\"\"\"\n",
    "Let's now import all the libraries that we need for this session. \n",
    "\n",
    "if you need to download scipy: \n",
    "!pip install scipy \n",
    "\n",
    "\"\"\"\n",
    "import pandas as pd\n",
    "import numpy as np\n",
    "\n",
    "from scipy.integrate import odeint\n",
    "import matplotlib.pyplot as plt\n",
    "%matplotlib inline"
   ]
  },
  {
   "cell_type": "code",
   "execution_count": null,
   "metadata": {},
   "outputs": [],
   "source": [
    "\"\"\"\n",
    "The formulas you see here are just the formulas from above translated in Python\n",
    "\n",
    "The function  deriv  includes the system of ODEs\n",
    "\n",
    "\n",
    "Input:\n",
    "    y0: are the initial conditions of the population which we'll define in a while\n",
    "    t: timegrid\n",
    "    N: total population\n",
    "    beta: effective contact rate\n",
    "    gamma: mean recovery rate\n",
    "Output:\n",
    "    dSdt\n",
    "    DIdt\n",
    "    DRdt\n",
    "    #the change of the individual populations over time, in a numpy array\n",
    "\"\"\"\n",
    "\n",
    "def deriv(y0, t, N, beta, gamma):\n",
    "\n",
    "    S, I, R = y0 #\n",
    "    # Change in S population over time\n",
    "    dSdt = -beta * S * I / N\n",
    "    # Change in I population over time\n",
    "    dIdt = beta * S * I / N - gamma * I\n",
    "    # Change in R population over time\n",
    "    dRdt = gamma * I\n",
    "\n",
    "    return dSdt, dIdt, dRdt"
   ]
  },
  {
   "cell_type": "code",
   "execution_count": null,
   "metadata": {},
   "outputs": [],
   "source": [
    "\"\"\"\n",
    "Let's define the parameters\n",
    "\n",
    "gamma: 1/ the number of days an infected person has and can spread the disease \n",
    "\n",
    "R0: is the basic reproductive number and  measures the transmission potential of a disease\n",
    "\n",
    "beta: R0*gamma\n",
    "\n",
    "y0: the initial conditions, \n",
    "\n",
    "\n",
    "On day zero the susceptible population equals to the total population, there is 1 infected person and zero recovered (from the specific infectious disease)\n",
    "\"\"\"\n",
    "\n",
    "\n",
    "N = 1000 #population\n",
    "\n",
    "\n",
    "gamma = 1.0/10.0 #the mean recovery rate\n",
    "\n",
    "\n",
    "R0 = 5.7 #basic reproductive number\n",
    "\n",
    "\n",
    "beta = R0 * gamma #effective contact rate\n",
    "\n",
    "S0, I0, R0 = N, 1, 0 #initial conditons "
   ]
  },
  {
   "cell_type": "code",
   "execution_count": null,
   "metadata": {},
   "outputs": [],
   "source": [
    "\n",
    "\"\"\"\n",
    "t: We will also need a time vector,  essentially how many days in the future we want to see the population dynamics\n",
    "\n",
    "y0: Vector to store the initial conditions\n",
    "\n",
    "\n",
    "Now we can call the odeint function from scipy to solve the ODEs. Essentially we defined all these vectors and parameters to pass them as arguments in the odeint function!\n",
    "\n",
    "\n",
    "https://docs.scipy.org/doc/scipy/reference/generated/scipy.integrate.odeint.html\n",
    "\n",
    "\n",
    "odeint/ Input: \n",
    "    deriv: function of ODEs \n",
    "    y0: initial conditions vector\n",
    "    t: time points\n",
    "    args: Extra arguments to pass to function. In our case the extra arguments are N, beta, gamma\n",
    "\n",
    "\n",
    "    Save the results of each population in a different variable. Each of these is a numpy array!\n",
    "\"\"\"\n",
    "\n",
    "\n",
    "\n",
    "t = np.linspace(0, 149, 150) # Grid of time points (in days)\n",
    "y0 = S0, I0, R0 # Initial conditions vector\n",
    "\n",
    "\n",
    "ret = odeint(deriv, y0, t, args=(N, beta, gamma))\n",
    "\n",
    "\n",
    "#and now let's store the results of that into three different variables for each population\n",
    "S, I, R = ret.T"
   ]
  },
  {
   "cell_type": "markdown",
   "metadata": {},
   "source": [
    "## Plot 1"
   ]
  },
  {
   "cell_type": "code",
   "execution_count": null,
   "metadata": {},
   "outputs": [],
   "source": [
    "# Build a dataframe to store the results of each population in the time grid that we defined\n",
    "df = pd.DataFrame({\n",
    "    'suseptible': S,\n",
    "    'infected': I,\n",
    "    'recovered': R,\n",
    "    'day': t\n",
    "})"
   ]
  },
  {
   "cell_type": "code",
   "execution_count": null,
   "metadata": {},
   "outputs": [],
   "source": [
    "#https://pandas.pydata.org/pandas-docs/version/0.23.4/generated/pandas.DataFrame.plot.html\n",
    "\n",
    "df.plot(x='day',\n",
    "        y=['infected', 'suseptible', 'recovered'],\n",
    "        color=['b', 'g', 'r'],\n",
    "        kind='area',\n",
    "        stacked=False)"
   ]
  },
  {
   "cell_type": "markdown",
   "metadata": {},
   "source": [
    "## Plot 2"
   ]
  },
  {
   "cell_type": "code",
   "execution_count": null,
   "metadata": {},
   "outputs": [],
   "source": [
    "\"\"\"\n",
    "In this version we will define a function and use matplotlib to draw our results\n",
    "\n",
    "\"\"\"\n",
    "\n",
    "\n",
    "def plotsir(t,S,I,R):\n",
    "    \n",
    "    f, ax = plt.subplots(1,1,figsize=(10,4))\n",
    "\n",
    "    #call a plot for each of the populations\n",
    "    #let's also specify the transparency and linewidth, and add labels for the populations \n",
    "    ax.plot(t,S,'b',alpha=0.7,linewidth=2,label='Susceptible')\n",
    "    ax.plot(t,I,'y',alpha=0.7,linewidth=2,label='Infected')\n",
    "    ax.plot(t,R,'g',alpha=0.7,linewidth=2,label='Recovered')\n",
    "\n",
    "    #now we define the axes labels\n",
    "    ax.set_xlabel('Time (days)')\n",
    "    ax.set_title(\"SIR\")\n",
    "\n",
    "    \n",
    "    ax.yaxis.set_tick_params(length=0)\n",
    "    ax.xaxis.set_tick_params(length=0)\n",
    "\n",
    "\n",
    "    #and add a grid if you like too\n",
    "    ax.grid(b=True, which='major', c='w', lw=1, ls='-')\n",
    "    #call legend for the labels\n",
    "    legend = ax.legend()\n",
    "    "
   ]
  },
  {
   "cell_type": "code",
   "execution_count": null,
   "metadata": {},
   "outputs": [],
   "source": [
    "#Finally let's call the plotsir function and see the results\n",
    "#Perfect!! \n",
    "plotsir(t,S,I,R)"
   ]
  },
  {
   "cell_type": "markdown",
   "metadata": {},
   "source": [
    "# END OF LAB 1-a"
   ]
  }
 ],
 "metadata": {
  "kernelspec": {
   "display_name": "Python 3",
   "language": "python",
   "name": "python3"
  },
  "language_info": {
   "codemirror_mode": {
    "name": "ipython",
    "version": 3
   },
   "file_extension": ".py",
   "mimetype": "text/x-python",
   "name": "python",
   "nbconvert_exporter": "python",
   "pygments_lexer": "ipython3",
   "version": "3.7.3"
  }
 },
 "nbformat": 4,
 "nbformat_minor": 2
}
