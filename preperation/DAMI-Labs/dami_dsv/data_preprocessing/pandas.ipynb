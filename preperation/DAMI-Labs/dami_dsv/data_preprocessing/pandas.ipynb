{
 "cells": [
  {
   "cell_type": "markdown",
   "metadata": {},
   "source": [
    "# Introduction to Pandas\n",
    "\n",
    "This jupyter notebook is optional for those who feel proficient on the use of pandas library"
   ]
  },
  {
   "cell_type": "markdown",
   "metadata": {},
   "source": [
    "**pandas** arises from the need to have a specific library to analyze data that provides, in the simplest possible way, all the instruments for data processing, data extraction, and data manipulation.\n",
    "\n",
    "Pandas design is based on numpy\n",
    "\n",
    "\n",
    "Pandas documentation:\n",
    "https://pandas.pydata.org/pandas-docs/stable/reference/io.html\n",
    "\n"
   ]
  },
  {
   "cell_type": "markdown",
   "metadata": {},
   "source": [
    "If you do not have pandas installed, you will need to install it. Enter the following\n",
    "command:\n",
    "\n",
    "1. conda install pandas (if you have the anaconda distribution)\n",
    "2. pip install pandas (Pypi, python through a different method)"
   ]
  },
  {
   "cell_type": "markdown",
   "metadata": {},
   "source": [
    "In this notebook we  will cover:\n",
    "\n",
    "1. Series \n",
    "2. DataFrames\n",
    "4. GroupBy\n",
    "5. Merging, Joining and Concatenating\n",
    "6. Operations\n",
    "7. Data Input and Output"
   ]
  },
  {
   "cell_type": "markdown",
   "metadata": {},
   "source": [
    "## Let's get started"
   ]
  },
  {
   "cell_type": "code",
   "execution_count": null,
   "metadata": {},
   "outputs": [],
   "source": [
    "import pandas as pd\n",
    "import numpy as np \n",
    "\n",
    "\"\"\"\n",
    "Every time you see pd and np, \n",
    "you’ll make reference to an object or method referring to these two libraries\n",
    "\"\"\""
   ]
  },
  {
   "cell_type": "code",
   "execution_count": null,
   "metadata": {},
   "outputs": [],
   "source": [
    "\"\"\"\n",
    "you can check the version using __version__\n",
    "\"\"\"\n",
    "pd.__version__"
   ]
  },
  {
   "cell_type": "markdown",
   "metadata": {},
   "source": [
    "## 1. Series\n",
    "\n",
    "\n",
    "The series is the object of the pandas library designed to represent one-dimensional data structures, similar to an array but with some additional features. Its internal structure is simple  and is composed of two arrays associated with each other. The main array holds the data (data of any NumPy type) to which each element is associated with a label, contained within the other array, called the index."
   ]
  },
  {
   "cell_type": "markdown",
   "metadata": {},
   "source": [
    "### Defining Series"
   ]
  },
  {
   "cell_type": "code",
   "execution_count": null,
   "metadata": {},
   "outputs": [],
   "source": [
    "\"\"\"\n",
    "To declare a series  call the Series() constructor and pass as an argument an array containing the values to be included in it.\n",
    "\"\"\"\n",
    "series1 = pd.Series([1,2,3])"
   ]
  },
  {
   "cell_type": "code",
   "execution_count": null,
   "metadata": {},
   "outputs": [],
   "source": [
    "series1"
   ]
  },
  {
   "cell_type": "code",
   "execution_count": null,
   "metadata": {},
   "outputs": [],
   "source": [
    "\"\"\"\n",
    "you can name the series and give also labels to the index!\n",
    "it's like a numpy array with names! \n",
    "\n",
    "1. create a list with the index labels\n",
    "2. a list with the values\n",
    "3. and pass them as parameters to the Series constructor!\n",
    "\"\"\"\n",
    "labels = [\"a\",\"b\",\"c\"] \n",
    "mydata = [1,2,3]\n",
    "series2 = pd.Series(data=mydata, index=labels, name=\"my_series\") "
   ]
  },
  {
   "cell_type": "code",
   "execution_count": null,
   "metadata": {},
   "outputs": [],
   "source": [
    "series2"
   ]
  },
  {
   "cell_type": "code",
   "execution_count": null,
   "metadata": {},
   "outputs": [],
   "source": [
    "\"\"\"\n",
    "you can define a new series by a dictinary too\n",
    "Note: A dictionary is a collection which is unordered, changeable and indexed. You can think of it as a map, mapping values to keys\n",
    "\"\"\"\n",
    "dict = {\"a\": 10, \"b\":20, \"c\":30} #\"a\" these are keys and the numbers are values.\n"
   ]
  },
  {
   "cell_type": "code",
   "execution_count": null,
   "metadata": {},
   "outputs": [],
   "source": [
    "dict"
   ]
  },
  {
   "cell_type": "code",
   "execution_count": null,
   "metadata": {},
   "outputs": [],
   "source": [
    "\"\"\"\n",
    "create the series in the same way, this time pass as a parameter the dictionary that we created\n",
    "\"\"\"\n",
    "series3 = pd.Series(dict)"
   ]
  },
  {
   "cell_type": "code",
   "execution_count": null,
   "metadata": {},
   "outputs": [],
   "source": [
    "\"\"\"\n",
    "As you can see from this example, the array of the index is filled with the keys while\n",
    "the data are filled with the corresponding values\n",
    "\"\"\"\n",
    "series3"
   ]
  },
  {
   "cell_type": "code",
   "execution_count": null,
   "metadata": {
    "tags": []
   },
   "outputs": [],
   "source": [
    "\"\"\"\n",
    "If you want to individually see the two arrays that make up this data structure, you\n",
    "can call the two attributes of the series as follows: \n",
    "\n",
    "index and values\n",
    "\"\"\"\n",
    "\n",
    "print(\"series values: \", series3.values)\n",
    "print(\"series index: \", series3.index)"
   ]
  },
  {
   "cell_type": "markdown",
   "metadata": {},
   "source": [
    "### Selecting elements from series"
   ]
  },
  {
   "cell_type": "code",
   "execution_count": null,
   "metadata": {},
   "outputs": [],
   "source": [
    "series2"
   ]
  },
  {
   "cell_type": "code",
   "execution_count": null,
   "metadata": {},
   "outputs": [],
   "source": [
    "\"\"\"\n",
    "Using the key:\n",
    "\n",
    "You can select individual elements as ordinary numpy arrays, specifying the key. \n",
    "Start counting from 0, for the 1st element\n",
    "\"\"\"\n",
    "series2[1]"
   ]
  },
  {
   "cell_type": "code",
   "execution_count": null,
   "metadata": {},
   "outputs": [],
   "source": [
    "\"\"\"\n",
    "Or label:\n",
    "\n",
    "or by specifing the label corresponding to the position of the index.\n",
    "\"\"\"\n",
    "\n",
    "series2[\"b\"]"
   ]
  },
  {
   "cell_type": "code",
   "execution_count": null,
   "metadata": {},
   "outputs": [],
   "source": [
    "\"\"\"\n",
    "For  mupltiple elements:\n",
    "In the same way you select multiple items in a numpy array, you can specify the following \n",
    "\"\"\"\n",
    "series2[0:2]"
   ]
  },
  {
   "cell_type": "code",
   "execution_count": null,
   "metadata": {},
   "outputs": [],
   "source": [
    "#or:\n",
    "series2[[\"a\", \"b\"]]"
   ]
  },
  {
   "cell_type": "markdown",
   "metadata": {},
   "source": [
    "## Dataframes \n",
    "\n",
    "Unlike series, which have an index array containing labels associated with each\n",
    "element, the dataframe has two index arrays. The first index array, associated with\n",
    "the lines, has very similar functions to the index array in series. In fact, each label is\n",
    "associated with all the values in the row. The second array contains a series of labels,\n",
    "each associated with a particular column.\n",
    "A dataframe may also be understood as a dict of series, where the keys are the\n",
    "column names and the values are the series that will form the columns of the dataframe. All elements in each series are mapped according to an array of labels, called the index. "
   ]
  },
  {
   "cell_type": "markdown",
   "metadata": {},
   "source": [
    "### Defining dataframes"
   ]
  },
  {
   "cell_type": "code",
   "execution_count": null,
   "metadata": {},
   "outputs": [],
   "source": [
    "\"\"\"\n",
    "We will create a dictionary with many keys, each key will have a list of elements\n",
    "\n",
    "Important note: A dictionary has unique keys. You can't have keys with the same value\n",
    "\"\"\"\n",
    "\n",
    "data = {'color' : ['blue','green','yellow','red','white'],\n",
    " 'object' : ['ball','pen','pencil','paper','mug'],\n",
    " 'price' : [1.2,1.0,0.6,0.9,1.7]}"
   ]
  },
  {
   "cell_type": "code",
   "execution_count": null,
   "metadata": {},
   "outputs": [],
   "source": [
    "data"
   ]
  },
  {
   "cell_type": "code",
   "execution_count": null,
   "metadata": {},
   "outputs": [],
   "source": [
    "\"\"\"\n",
    "Convert it into a dataframe!\n",
    "\"\"\"\n",
    "df = pd.DataFrame(data)"
   ]
  },
  {
   "cell_type": "code",
   "execution_count": null,
   "metadata": {},
   "outputs": [],
   "source": [
    "\"\"\"\n",
    "Notice that by default the keys of the dict become the DataFrame columns\n",
    "\"\"\"\n",
    "df"
   ]
  },
  {
   "cell_type": "code",
   "execution_count": null,
   "metadata": {},
   "outputs": [],
   "source": [
    "#you can make a selection of columns\n",
    "frame2 = pd.DataFrame(data, columns=['object','price'])"
   ]
  },
  {
   "cell_type": "code",
   "execution_count": null,
   "metadata": {},
   "outputs": [],
   "source": [
    "frame2"
   ]
  },
  {
   "cell_type": "code",
   "execution_count": null,
   "metadata": {},
   "outputs": [],
   "source": [
    "\"\"\"\n",
    "You can also assign labels to the index! this you can do by specifying the index parameter of the DataFrame constructor\n",
    "\"\"\"\n",
    "df = pd.DataFrame(data, index = [\"one\", \"two\", \"three\", \"four\", \"five\"])"
   ]
  },
  {
   "cell_type": "code",
   "execution_count": null,
   "metadata": {},
   "outputs": [],
   "source": [
    "df"
   ]
  },
  {
   "cell_type": "markdown",
   "metadata": {},
   "source": [
    "### Slicing and locating"
   ]
  },
  {
   "cell_type": "code",
   "execution_count": null,
   "metadata": {},
   "outputs": [],
   "source": [
    "\"\"\"\n",
    "Pass the name of the column, and you'll get the column you want\n",
    "\"\"\"\n",
    "df[\"color\"]"
   ]
  },
  {
   "cell_type": "code",
   "execution_count": null,
   "metadata": {},
   "outputs": [],
   "source": [
    "\"\"\"\n",
    "The result is a series object\n",
    "\n",
    "Check the type by the type()\n",
    "\"\"\"\n",
    "\n",
    "type(df[\"color\"])"
   ]
  },
  {
   "cell_type": "code",
   "execution_count": null,
   "metadata": {},
   "outputs": [],
   "source": [
    "\"\"\"\n",
    "Another way to grab a column is by specifying the name of the column.\n",
    "\n",
    "The same as when using the bracket notation. Sometimes python might confuse it with a method and thus cause an error. \n",
    "So use the bracket notation to be on the safe side.  \n",
    "\n",
    "Note: if you type df. and tab you'll see all the different methods you can call for the specific object\n",
    "\"\"\"\n",
    "\n",
    "df.color"
   ]
  },
  {
   "cell_type": "code",
   "execution_count": null,
   "metadata": {},
   "outputs": [],
   "source": [
    "\"\"\"\n",
    "Selection of multiple columns\n",
    "\"\"\"\n",
    "\n",
    "df[[\"object\", \"price\"]]"
   ]
  },
  {
   "cell_type": "code",
   "execution_count": null,
   "metadata": {},
   "outputs": [],
   "source": [
    "\"\"\"\n",
    ".loc\n",
    "\n",
    "location based index\n",
    "\"\"\"\n",
    "df.loc[\"one\"]"
   ]
  },
  {
   "cell_type": "code",
   "execution_count": null,
   "metadata": {},
   "outputs": [],
   "source": [
    "\"\"\"\n",
    ".iloc\n",
    "\n",
    "index based location\n",
    "\"\"\"\n",
    "df.iloc[0]"
   ]
  },
  {
   "cell_type": "code",
   "execution_count": null,
   "metadata": {},
   "outputs": [],
   "source": [
    "\"\"\" \n",
    "selecting subsets of rows and columns , using loc \n",
    "\"\"\"\n",
    "df.loc[\"one\",\"price\"]"
   ]
  },
  {
   "cell_type": "code",
   "execution_count": null,
   "metadata": {},
   "outputs": [],
   "source": [
    "\"\"\"\n",
    "The same but using iloc\n",
    "\n",
    "In this case you need to specify the index\n",
    "\"\"\"\n",
    "df.iloc[0,2]"
   ]
  },
  {
   "cell_type": "code",
   "execution_count": null,
   "metadata": {},
   "outputs": [],
   "source": [
    "\"\"\"\n",
    "Selecting a subset of the dataframe \n",
    "\n",
    "format df.loc[[rows], [columns]]\n",
    "\"\"\"\n",
    "df.loc[[\"one\",\"two\"], [\"color\", \"price\"]]"
   ]
  },
  {
   "cell_type": "code",
   "execution_count": null,
   "metadata": {},
   "outputs": [],
   "source": [
    "\"\"\"\n",
    "The same result using iloc\n",
    "\"\"\"\n",
    "df.iloc[[0,1], [0,2]]"
   ]
  },
  {
   "cell_type": "code",
   "execution_count": null,
   "metadata": {},
   "outputs": [],
   "source": [
    "df"
   ]
  },
  {
   "cell_type": "code",
   "execution_count": null,
   "metadata": {},
   "outputs": [],
   "source": [
    "\"\"\"\n",
    "Similarly you can define a range and get the subset of a dataframe\n",
    "\"\"\"\n",
    "df.iloc[1:3,1:3]"
   ]
  },
  {
   "cell_type": "markdown",
   "metadata": {},
   "source": [
    "### Assigning values"
   ]
  },
  {
   "cell_type": "code",
   "execution_count": null,
   "metadata": {},
   "outputs": [],
   "source": [
    "\"\"\"\n",
    "Creating a new column in the dataframe called new. \n",
    "\n",
    "Just assign a new column with the desired name and give it the values that you want. \n",
    "\n",
    "Here is an example where the new column is the combination of color and object columns\n",
    "\"\"\"\n",
    "df[\"new\"] = df[\"color\"] + df[\"object\"]"
   ]
  },
  {
   "cell_type": "code",
   "execution_count": null,
   "metadata": {},
   "outputs": [],
   "source": [
    "df"
   ]
  },
  {
   "cell_type": "code",
   "execution_count": null,
   "metadata": {},
   "outputs": [],
   "source": [
    "\"\"\"\n",
    "Here the new column which is called new2 is the price column in the power of 2. This operation happens row wise\n",
    "\"\"\"\n",
    "\n",
    "df[\"new2\"] = df[\"price\"] **2"
   ]
  },
  {
   "cell_type": "code",
   "execution_count": null,
   "metadata": {},
   "outputs": [],
   "source": [
    "df"
   ]
  },
  {
   "cell_type": "markdown",
   "metadata": {},
   "source": [
    "### Drop "
   ]
  },
  {
   "cell_type": "code",
   "execution_count": null,
   "metadata": {
    "tags": []
   },
   "outputs": [],
   "source": [
    "\"\"\"\n",
    "\n",
    "Let's now remove the columns that we created above. \n",
    "\n",
    "\n",
    "You can use .drop() to do that. As parameters pass the name or list of names that you want to delete and specify the axis. \n",
    "\n",
    "Note1: \n",
    "If axis=0, it will delete the rows with the given nane \n",
    "if axis=1, it will delete the columns with the given 'name'\n",
    "\n",
    "\"\"\"\n",
    "\n",
    "df.drop([\"new\", \"new2\"], axis=1)\n",
    "print(df)\n"
   ]
  },
  {
   "cell_type": "code",
   "execution_count": null,
   "metadata": {},
   "outputs": [],
   "source": [
    "\"\"\"\n",
    "Note2:\n",
    "\n",
    "pandas requires you to type inplace=True if you want all these to stay in place. otherwise it's just going to display but it's not going to be saved\n",
    "\n",
    "\"\"\"\n",
    "df.drop([\"new\", \"new2\"], axis=1, inplace=True)"
   ]
  },
  {
   "cell_type": "code",
   "execution_count": null,
   "metadata": {},
   "outputs": [],
   "source": [
    "\"\"\"\n",
    "\n",
    "Let's drop now the row with index label equal to three and just display the result\n",
    "\n",
    "\n",
    "\"\"\"\n",
    "df.drop(\"three\", axis=0)"
   ]
  },
  {
   "cell_type": "markdown",
   "metadata": {},
   "source": [
    "### Assign a series to a dataframe"
   ]
  },
  {
   "cell_type": "code",
   "execution_count": null,
   "metadata": {},
   "outputs": [],
   "source": [
    "ser = pd.Series(np.arange(5), index=[\"one\", \"two\", \"three\", \"four\", \"five\"]) #Return evenly spaced values within a given interval.\n",
    "\n",
    "\n",
    "#Note that the index of the series and the index of the dataframe should much\n",
    "\n",
    "#assign it to the dataframe\n",
    "df['new'] = ser"
   ]
  },
  {
   "cell_type": "code",
   "execution_count": null,
   "metadata": {},
   "outputs": [],
   "source": [
    "ser"
   ]
  },
  {
   "cell_type": "code",
   "execution_count": null,
   "metadata": {},
   "outputs": [],
   "source": [
    "df"
   ]
  },
  {
   "cell_type": "code",
   "execution_count": null,
   "metadata": {},
   "outputs": [],
   "source": [
    "### Membership Values\n",
    "\n",
    "\n",
    "\"\"\"\n",
    "\n",
    "You get a dataframe containing Boolean values, where True indicates values that\n",
    "meet the membership.\n",
    "\n",
    "\"\"\"\n",
    "\n",
    "\n",
    "df.isin([1.0,'pen'])\n",
    "\n",
    "\n"
   ]
  },
  {
   "cell_type": "code",
   "execution_count": null,
   "metadata": {},
   "outputs": [],
   "source": [
    "\"\"\"\n",
    "\n",
    "\n",
    "If you pass the value returned as a condition, then you’ll get a\n",
    "new dataframe containing only the values that satisfy the condition.\n",
    "\n",
    "\"\"\"\n",
    "\n",
    "\n",
    "df[df.isin([1.0,'pen'])]"
   ]
  },
  {
   "cell_type": "code",
   "execution_count": null,
   "metadata": {},
   "outputs": [],
   "source": [
    "#another way to delete a column\n",
    "\n",
    "del df[\"new\"]"
   ]
  },
  {
   "cell_type": "code",
   "execution_count": null,
   "metadata": {},
   "outputs": [],
   "source": [
    "df"
   ]
  },
  {
   "cell_type": "markdown",
   "metadata": {},
   "source": [
    "### Conditional selection"
   ]
  },
  {
   "cell_type": "code",
   "execution_count": null,
   "metadata": {},
   "outputs": [],
   "source": [
    "\n",
    "\"\"\"\n",
    "Conditional selection using brackets notations:\n",
    "You can apply the filtering through the application of certain conditions.\n",
    "\n",
    "\n",
    "Let's check, where is the dataframe less that 1.2?\n",
    "Direct masking operations are interpreted row-wise and not column-wise\n",
    "\n",
    "\"\"\"\n",
    "\n",
    "df[df[\"price\"]<1.2]\n"
   ]
  },
  {
   "cell_type": "code",
   "execution_count": null,
   "metadata": {},
   "outputs": [],
   "source": [
    "#multiple conditions, use parentheses!\n",
    "\n",
    "df[(df[\"price\"]<1.2) & (df[\"object\"]==\"pencil\")]"
   ]
  },
  {
   "cell_type": "markdown",
   "metadata": {},
   "source": [
    "### Transposition"
   ]
  },
  {
   "cell_type": "code",
   "execution_count": null,
   "metadata": {},
   "outputs": [],
   "source": [
    "\"\"\"\n",
    "An operation that you might need when you’re dealing with tabular data structures is\n",
    "transposition (that is, columns become rows and rows become columns). pandas allows\n",
    "you to do this in a very simple way. You can get the transposition of the dataframe by\n",
    "adding the T attribute to its application.\n",
    "\n",
    "\"\"\"\n",
    "df.T"
   ]
  },
  {
   "cell_type": "markdown",
   "metadata": {},
   "source": [
    "### Sample"
   ]
  },
  {
   "cell_type": "code",
   "execution_count": null,
   "metadata": {},
   "outputs": [],
   "source": [
    "\"\"\"\n",
    "Return a random sample of items from an axis object\n",
    "\n",
    "\"\"\"\n",
    "\n",
    "\n",
    "df.sample(n=1)"
   ]
  },
  {
   "cell_type": "code",
   "execution_count": null,
   "metadata": {},
   "outputs": [],
   "source": [
    "df.sample(frac=0.5)"
   ]
  },
  {
   "cell_type": "markdown",
   "metadata": {},
   "source": [
    "### Create intervals"
   ]
  },
  {
   "cell_type": "code",
   "execution_count": null,
   "metadata": {},
   "outputs": [],
   "source": [
    "df"
   ]
  },
  {
   "cell_type": "code",
   "execution_count": null,
   "metadata": {},
   "outputs": [],
   "source": [
    "\"\"\"\n",
    "Bin values into discrete intervals\n",
    "\n",
    "\"\"\"\n",
    "\n",
    "\n",
    "\n",
    "df[\"price_bins\"] = pd.cut(x = df[\"price\"], bins=[0, 0.6, 1.0, 1.7], labels=[\"interval1\", \"interval2\", \"interval3\"])\n",
    "\n"
   ]
  },
  {
   "cell_type": "code",
   "execution_count": null,
   "metadata": {},
   "outputs": [],
   "source": [
    "df"
   ]
  },
  {
   "cell_type": "markdown",
   "metadata": {},
   "source": [
    "### Set and reset index"
   ]
  },
  {
   "cell_type": "code",
   "execution_count": null,
   "metadata": {},
   "outputs": [],
   "source": [
    "\"\"\"\n",
    "The index will become the first column of the dataframe\n",
    "\"\"\"\n",
    "df.reset_index(inplace=True)\n",
    "\n"
   ]
  },
  {
   "cell_type": "code",
   "execution_count": null,
   "metadata": {},
   "outputs": [],
   "source": [
    "df"
   ]
  },
  {
   "cell_type": "code",
   "execution_count": null,
   "metadata": {},
   "outputs": [],
   "source": [
    "\"\"\"\n",
    "You can now rename the new index that you created.\n",
    "Assign a new column with the desired index names\n",
    "set the column as the new index using .set_index()\n",
    "\n",
    "\"\"\"\n",
    "\n",
    "\n",
    "index = [\"a\",\"b\",\"c\",\"d\",\"e\"]\n",
    "df[\"new_index\"] = index\n",
    "df.set_index(\"new_index\", inplace=True)"
   ]
  },
  {
   "cell_type": "code",
   "execution_count": null,
   "metadata": {},
   "outputs": [],
   "source": [
    "df"
   ]
  },
  {
   "cell_type": "markdown",
   "metadata": {},
   "source": [
    "### Multi-index\n"
   ]
  },
  {
   "cell_type": "code",
   "execution_count": null,
   "metadata": {},
   "outputs": [],
   "source": [
    "#Multi-index\n",
    "outside = [\"G1\", \"G1\", \"G1\", \"G2\", \"G2\", \"G2\"]\n",
    "inside = [1,2,3,1,2,3]\n",
    "hier_index = list(zip(outside,inside)) #list of tuple pairs\n",
    "hier_index = pd.MultiIndex.from_tuples(hier_index) #a customization of making a df, takes a list creates a multi-index"
   ]
  },
  {
   "cell_type": "code",
   "execution_count": null,
   "metadata": {},
   "outputs": [],
   "source": [
    "from numpy.random import randn\n",
    "df = pd.DataFrame(randn(6,2), hier_index, [\"A\", \"B\"])\n",
    "#constructing a multi-level index"
   ]
  },
  {
   "cell_type": "code",
   "execution_count": null,
   "metadata": {},
   "outputs": [],
   "source": [
    "df"
   ]
  },
  {
   "cell_type": "code",
   "execution_count": null,
   "metadata": {},
   "outputs": [],
   "source": [
    "#call data\n",
    "df.loc[\"G1\"]\n",
    "df.loc[\"G1\"].loc[1]"
   ]
  },
  {
   "cell_type": "code",
   "execution_count": null,
   "metadata": {},
   "outputs": [],
   "source": [
    "df.index.names\n",
    "#pandas the second indeses don't have names\n",
    "#so you can d: \n",
    "df.index.names = [\"Groups\", \"Num\"]"
   ]
  },
  {
   "cell_type": "code",
   "execution_count": null,
   "metadata": {},
   "outputs": [],
   "source": [
    "df.loc[\"G2\"].loc[2][\"B\"]"
   ]
  },
  {
   "cell_type": "code",
   "execution_count": null,
   "metadata": {},
   "outputs": [],
   "source": [
    "#cross-section fo multi-level index\n",
    "# it has the ability to go inside a muli-level index\n",
    "df.xs(\"G1\")\n",
    "#you want all the values were inner index is 1\n",
    "df.xs(1,level=\"Num\") #it would be more complicated with loc"
   ]
  },
  {
   "cell_type": "markdown",
   "metadata": {},
   "source": [
    "### GroupBy\n"
   ]
  },
  {
   "cell_type": "code",
   "execution_count": null,
   "metadata": {},
   "outputs": [],
   "source": [
    "\"\"\"\n",
    "\n",
    "Groupby allows you to group together rows based off if a column and perform an aggregate function on them\n",
    "\n",
    "\n",
    "\"\"\"\n",
    "\n",
    "# Create a new dataframe\n",
    "data = {'Company':['GOOG','GOOG','MSFT','MSFT','FB','FB'],\n",
    "       'Person':['Sam','Charlie','Amy','Vanessa','Carl','Sarah'],\n",
    "       'Sales':[200,120,340,124,243,350]}\n"
   ]
  },
  {
   "cell_type": "code",
   "execution_count": null,
   "metadata": {},
   "outputs": [],
   "source": [
    "data = pd.DataFrame(data)"
   ]
  },
  {
   "cell_type": "code",
   "execution_count": null,
   "metadata": {},
   "outputs": [],
   "source": [
    "data"
   ]
  },
  {
   "cell_type": "code",
   "execution_count": null,
   "metadata": {},
   "outputs": [],
   "source": [
    "\"\"\"\n",
    "\n",
    "#Use groupby\n",
    "\n",
    "Using only groupby it will return a groupby object that points out where it's stored in memory.\n",
    "\n",
    "\n",
    "\n",
    "\"\"\"\n",
    "data.groupby('Company')"
   ]
  },
  {
   "cell_type": "code",
   "execution_count": null,
   "metadata": {},
   "outputs": [],
   "source": [
    "\"\"\"\n",
    "An essential piece of analysis of large data is efficient summarization: computing\n",
    "aggregations like sum(), mean(), median(), min(), and max(), in which a single number\n",
    "gives insight into the nature of a potentially large datase\n",
    "\n",
    "\n",
    "So after groupby, specify a summarization function!\n",
    "\n",
    "\"\"\"\n",
    "byComp = data.groupby('Company').mean() "
   ]
  },
  {
   "cell_type": "code",
   "execution_count": null,
   "metadata": {},
   "outputs": [],
   "source": [
    "byComp\n",
    "#returns only for sales because person is strings"
   ]
  },
  {
   "cell_type": "code",
   "execution_count": null,
   "metadata": {},
   "outputs": [],
   "source": [
    "byComp = data.groupby('Company').sum().loc[\"FB\"]"
   ]
  },
  {
   "cell_type": "code",
   "execution_count": null,
   "metadata": {},
   "outputs": [],
   "source": [
    "byComp"
   ]
  },
  {
   "cell_type": "code",
   "execution_count": null,
   "metadata": {},
   "outputs": [],
   "source": [
    "byComp = data.groupby('Company').describe()"
   ]
  },
  {
   "cell_type": "code",
   "execution_count": null,
   "metadata": {},
   "outputs": [],
   "source": [
    "byComp"
   ]
  },
  {
   "cell_type": "markdown",
   "metadata": {},
   "source": [
    "### Merging, Joining, Concatenating"
   ]
  },
  {
   "cell_type": "markdown",
   "metadata": {},
   "source": [
    "All of the preceding routines worked on single arrays. It’s also possible to combine\n",
    "multiple arrays into one, and to conversely split a single array into multiple arrays.\n",
    "We’ll take a look at those operations here."
   ]
  },
  {
   "cell_type": "code",
   "execution_count": null,
   "metadata": {},
   "outputs": [],
   "source": [
    "#Let's first create three dataframes\n",
    "\n",
    "\n",
    "\n",
    "df1 = pd.DataFrame({'A': ['A0', 'A1', 'A2', 'A3'],\n",
    "                        'B': ['B0', 'B1', 'B2', 'B3'],\n",
    "                        'C': ['C0', 'C1', 'C2', 'C3'],\n",
    "                        'D': ['D0', 'D1', 'D2', 'D3']},\n",
    "                        index=[0, 1, 2, 3])\n"
   ]
  },
  {
   "cell_type": "code",
   "execution_count": null,
   "metadata": {},
   "outputs": [],
   "source": [
    "df2 = pd.DataFrame({'A': ['A4', 'A5', 'A6', 'A7'],\n",
    "                        'B': ['B4', 'B5', 'B6', 'B7'],\n",
    "                        'C': ['C4', 'C5', 'C6', 'C7'],\n",
    "                        'D': ['D4', 'D5', 'D6', 'D7']},\n",
    "                         index=[4, 5, 6, 7]) "
   ]
  },
  {
   "cell_type": "code",
   "execution_count": null,
   "metadata": {},
   "outputs": [],
   "source": [
    "df3 = pd.DataFrame({'A': ['A8', 'A9', 'A10', 'A11'],\n",
    "                        'B': ['B8', 'B9', 'B10', 'B11'],\n",
    "                        'C': ['C8', 'C9', 'C10', 'C11'],\n",
    "                        'D': ['D8', 'D9', 'D10', 'D11']},\n",
    "                        index=[8, 9, 10, 11])"
   ]
  },
  {
   "cell_type": "code",
   "execution_count": null,
   "metadata": {},
   "outputs": [],
   "source": [
    "df1"
   ]
  },
  {
   "cell_type": "markdown",
   "metadata": {},
   "source": [
    "### Concatenation\n",
    "\n",
    "Concatenation basically glues together DataFrames. Keep in mind that dimensions should match along the axis you are concatenating on. You can use **pd.concat** and pass in a list of DataFrames to concatenate together:"
   ]
  },
  {
   "cell_type": "code",
   "execution_count": null,
   "metadata": {},
   "outputs": [],
   "source": [
    "pd.concat([df1,df2,df3])"
   ]
  },
  {
   "cell_type": "code",
   "execution_count": null,
   "metadata": {},
   "outputs": [],
   "source": [
    "\"\"\"\n",
    "#concat uses by default axis=0 and concats along the columns. \n",
    "\n",
    "\n",
    "Let's now try axis=1. \n",
    "You can see missing values becauses the rows of the three dataframes do not match!\n",
    "\n",
    "\n",
    "\n",
    "Important!\n",
    "Make sure that you have info that lines up correctly when u join the axis\n",
    "\n",
    "\"\"\"\n",
    "\n",
    "pd.concat([df1,df2,df3],axis=1)"
   ]
  },
  {
   "cell_type": "markdown",
   "metadata": {},
   "source": [
    "### Merge"
   ]
  },
  {
   "cell_type": "code",
   "execution_count": null,
   "metadata": {},
   "outputs": [],
   "source": [
    "left = pd.DataFrame({'key': ['K0', 'K1', 'K2', 'K3'],\n",
    "                     'A': ['A0', 'A1', 'A2', 'A3'],\n",
    "                     'B': ['B0', 'B1', 'B2', 'B3']})\n",
    "   \n",
    "right = pd.DataFrame({'key': ['K0', 'K1', 'K2', 'K3'],\n",
    "                          'C': ['C0', 'C1', 'C2', 'C3'],\n",
    "                          'D': ['D0', 'D1', 'D2', 'D3']})    "
   ]
  },
  {
   "cell_type": "markdown",
   "metadata": {},
   "source": [
    "\n",
    "\n",
    "The **merge** function allows you to merge DataFrames together using a similar logic as merging SQL Tables together. For example:"
   ]
  },
  {
   "cell_type": "code",
   "execution_count": null,
   "metadata": {},
   "outputs": [],
   "source": [
    "pd.merge(left,right,how='inner',on='key')\n"
   ]
  },
  {
   "cell_type": "markdown",
   "metadata": {},
   "source": [
    "### Joining\n"
   ]
  },
  {
   "cell_type": "code",
   "execution_count": null,
   "metadata": {},
   "outputs": [],
   "source": [
    "left = pd.DataFrame({'A': ['A0', 'A1', 'A2'],\n",
    "                     'B': ['B0', 'B1', 'B2']},\n",
    "                      index=['K0', 'K1', 'K2']) \n",
    "\n",
    "right = pd.DataFrame({'C': ['C0', 'C2', 'C3'],\n",
    "                    'D': ['D0', 'D2', 'D3']},\n",
    "                      index=['K0', 'K2', 'K3'])"
   ]
  },
  {
   "cell_type": "code",
   "execution_count": null,
   "metadata": {},
   "outputs": [],
   "source": [
    "#like merge, but keys are on index instead of a column\n",
    "left.join(right)"
   ]
  },
  {
   "cell_type": "markdown",
   "metadata": {},
   "source": [
    "### Functions by Row and Column"
   ]
  },
  {
   "cell_type": "markdown",
   "metadata": {},
   "source": [
    "You can also use your own definition of functions to make changes in a dataframe.\n",
    "The important point is that they operate on a one-dimensional\n",
    "array, giving a single number as a result. For example, you can define a lambda function\n",
    "that calculates the range covered by the elements in an array\n"
   ]
  },
  {
   "cell_type": "code",
   "execution_count": null,
   "metadata": {},
   "outputs": [],
   "source": [
    "#lambda is an anonymous function\n",
    "f = lambda x: x.max() + x.min()"
   ]
  },
  {
   "cell_type": "code",
   "execution_count": null,
   "metadata": {},
   "outputs": [],
   "source": [
    " # The above lambda function is equivalent to this function\n",
    " def f(x):\n",
    "    return x.max() - x.min()"
   ]
  },
  {
   "cell_type": "code",
   "execution_count": null,
   "metadata": {},
   "outputs": [],
   "source": [
    "frame = pd.DataFrame(np.arange(16).reshape((4,4)),\n",
    "    index=['red','blue','yellow','white'],\n",
    "    columns=['ball','pen','pencil','paper'])"
   ]
  },
  {
   "cell_type": "code",
   "execution_count": null,
   "metadata": {},
   "outputs": [],
   "source": [
    "frame"
   ]
  },
  {
   "cell_type": "code",
   "execution_count": null,
   "metadata": {},
   "outputs": [],
   "source": [
    "#Using the apply() function, you can apply the f function just defined on the dataframe column wise\n",
    "frame.apply(f)"
   ]
  },
  {
   "cell_type": "code",
   "execution_count": null,
   "metadata": {},
   "outputs": [],
   "source": [
    " #and of course row wise specifying axis=1\n",
    " frame.apply(f, axis=1)"
   ]
  },
  {
   "cell_type": "markdown",
   "metadata": {},
   "source": [
    "### Input and Output"
   ]
  },
  {
   "cell_type": "code",
   "execution_count": null,
   "metadata": {},
   "outputs": [],
   "source": [
    "### Let's now store this dataframe into a csv file\n",
    "frame"
   ]
  },
  {
   "cell_type": "code",
   "execution_count": null,
   "metadata": {},
   "outputs": [],
   "source": [
    "\"\"\"\n",
    "you can do that by calling the to_csv function and pass as a parameter the path where you want the new file to be stored at. \n",
    "If you don't specidy the path and just type the name of the file then it will be stored under your current working directory\n",
    "\"\"\"\n",
    "\n",
    "frame.to_csv(\"frame.csv\")"
   ]
  },
  {
   "cell_type": "code",
   "execution_count": null,
   "metadata": {},
   "outputs": [],
   "source": [
    "\"\"\"\n",
    "Now, if you want to read a csv file you can use the read_csv\n",
    "\n",
    "\"\"\"\n",
    "\n",
    "data = pd.read_csv(\"frame.csv\", index_col=0 )"
   ]
  },
  {
   "cell_type": "code",
   "execution_count": null,
   "metadata": {},
   "outputs": [],
   "source": [
    "data\n"
   ]
  },
  {
   "cell_type": "markdown",
   "metadata": {},
   "source": [
    "# End of notebook for pandas\n"
   ]
  },
  {
   "cell_type": "code",
   "execution_count": null,
   "metadata": {},
   "outputs": [],
   "source": []
  }
 ],
 "metadata": {
  "language_info": {
   "codemirror_mode": {
    "name": "ipython",
    "version": 3
   },
   "file_extension": ".py",
   "mimetype": "text/x-python",
   "name": "python",
   "nbconvert_exporter": "python",
   "pygments_lexer": "ipython3",
   "version": "3.7.6-final"
  },
  "orig_nbformat": 2,
  "kernelspec": {
   "name": "python37664bit8aabbce7213d46d583b8372b926b889b",
   "display_name": "Python 3.7.6 64-bit"
  }
 },
 "nbformat": 4,
 "nbformat_minor": 2
}