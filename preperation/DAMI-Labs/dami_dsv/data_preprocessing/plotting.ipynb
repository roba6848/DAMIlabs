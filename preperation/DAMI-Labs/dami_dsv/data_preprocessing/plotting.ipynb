{
 "cells": [
  {
   "cell_type": "markdown",
   "metadata": {},
   "source": [
    "# Introduction to Plotting\n",
    "This jupyter notebook is optional for those who feel proficient on plotting with Python\n"
   ]
  },
  {
   "cell_type": "markdown",
   "metadata": {},
   "source": [
    "In this notebook we will cover:\n",
    "\n",
    "- How to plot with matplotlib\n",
    "\n",
    "- How to plot with pandas\n",
    "\n",
    "- seaborn"
   ]
  },
  {
   "cell_type": "markdown",
   "metadata": {},
   "source": [
    "## 1. Matplotlib"
   ]
  },
  {
   "cell_type": "markdown",
   "metadata": {},
   "source": [
    "matplotlib is a Python library specializing in the development of two-dimensional\n",
    "charts (including 3D charts).\n",
    "\n",
    "\n",
    "Check the documentation: (http://matplotlib.org)!"
   ]
  },
  {
   "cell_type": "code",
   "execution_count": null,
   "metadata": {
    "tags": []
   },
   "outputs": [],
   "source": [
    "#pip install matplotlib\n",
    "#or conda install matplotlib if you use anaconda\n",
    "!pip install matplotlib\n"
   ]
  },
  {
   "cell_type": "markdown",
   "metadata": {},
   "source": []
  },
  {
   "cell_type": "code",
   "execution_count": null,
   "metadata": {},
   "outputs": [],
   "source": [
    "\"\"\"\n",
    "The pyplot module is a collection of command-style functions that allows you to use\n",
    "matplotlib. Each pyplot function will operate or make some changes\n",
    "to the Figure object, for example, the creation of the Figure itself, the creation of a\n",
    "plotting area, representation of a line, decoration of the plot with a label, etc.\n",
    "Pyplot also is stateful, in that it tracks the status of the current figure and its plotting\n",
    "area. The functions called act on the current figure.\n",
    "\n",
    "\n",
    "\"\"\"\n",
    "\n",
    "import matplotlib.pyplot as plt \n",
    "\n"
   ]
  },
  {
   "cell_type": "code",
   "execution_count": null,
   "metadata": {},
   "outputs": [],
   "source": [
    "\"\"\"\n",
    "Matplotlib inline will allow you to display the figures on jupyter.\n",
    "If you are using python you don't have to use inline but after creating the plots you need to call plt.show()\n",
    "\"\"\"\n",
    "\n",
    "%matplotlib inline"
   ]
  },
  {
   "cell_type": "code",
   "execution_count": null,
   "metadata": {},
   "outputs": [],
   "source": [
    "\"\"\"\n",
    "Let's create a list of points and use plt to plot it!\n",
    "So just call plot and pass as a parameter y \n",
    "\"\"\"\n",
    "\n",
    "y = ([1,2,3,4])\n",
    "plt.plot(y)\n",
    "#plt.show()"
   ]
  },
  {
   "cell_type": "markdown",
   "metadata": {},
   "source": [
    "### Object oriented method"
   ]
  },
  {
   "cell_type": "code",
   "execution_count": null,
   "metadata": {},
   "outputs": [],
   "source": [
    "import numpy as np \n",
    "\n",
    "\"\"\"\n",
    "Let's create something to plot first :) \n",
    "\"\"\"\n",
    "x = np.linspace(0,5,11) \n",
    "y = x**2"
   ]
  },
  {
   "cell_type": "code",
   "execution_count": null,
   "metadata": {},
   "outputs": [],
   "source": [
    "\"\"\"\n",
    "The main idea with OO use of matplotlib, is that you can use figure objects and call methods of them.\n",
    "The figure object is your empty canvas.\n",
    "\n",
    "next you can specify the limits of the plot frame by call .add_axes\n",
    "\n",
    "Then you can call .plot for x and y \n",
    "\n",
    "\"\"\"\n",
    "fig = plt.figure() #this is how you create the figure object\n",
    "\n",
    "axes = fig.add_axes([0.1,0.1,0.8,0.8])#[left of the axes, bottom, width and height], the percentage of the canvas that you want to take\n",
    "#You can change these values to see how the frame will change. \n",
    "\n",
    "axes.plot(x,y)\n",
    "axes.set_xlabel(\"x label\")\n",
    "axes.set_ylabel(\"y label\")\n",
    "axes.set_title(\"title\")\n"
   ]
  },
  {
   "cell_type": "markdown",
   "metadata": {},
   "source": [
    "### Multiple plots"
   ]
  },
  {
   "cell_type": "code",
   "execution_count": null,
   "metadata": {},
   "outputs": [],
   "source": [
    "\"\"\"\n",
    "Let's now create two plots, one inside of the other!\n",
    "\n",
    "\"\"\"\n",
    "\n",
    "fig = plt.figure()\n",
    "axes1 = fig.add_axes([0.1,0.1,0.8,0.8])#you add a set of axes and you pass this list that goes from top to bottom\n",
    "axes2 = fig.add_axes([0.2,0.5,0.4,0.3])#now add the limits for the second smaller plot\n",
    "\n",
    "axes1.plot(x,y) #call axes1 to plot the first plot\n",
    "axes1.set_title(\"larger_plot\") #set_title for the big plot \n",
    "\n",
    "axes2.plot(y,x)#and axes2 for the second plot!\n",
    "axes2.set_title(\"smaller_plot\")#set_title for the small plot "
   ]
  },
  {
   "cell_type": "code",
   "execution_count": null,
   "metadata": {},
   "outputs": [],
   "source": [
    " #Let's create more data points\n",
    " t = np.arange(0,5,0.1)\n",
    " y1 = np.sin(2*np.pi*t)\n",
    " y2 = np.sin(2*np.pi*t)"
   ]
  },
  {
   "cell_type": "code",
   "execution_count": null,
   "metadata": {},
   "outputs": [],
   "source": [
    "\"\"\"\n",
    "Let's now make two subplots one next to other!\n",
    "Instead of plt.figure you can call plt.subplots and specify how many rows and columns you want.\n",
    "if nrows=1, ncols=2 it will create 1 row with 2 plots/ if nrows=2, ncols=3 it will create 2 rows with 3 plots each.\n",
    "\n",
    "Note!\n",
    "\n",
    "The axes attribute is just a list of the matplotlib axes. So you can actually iterate through and create  different plots!\n",
    "\"\"\"\n",
    "\n",
    "\n",
    "fig, axes = plt.subplots(nrows=1, ncols=2, figsize=(10,2))\n",
    "plt.tight_layout() #to fix the overlappings\n",
    "\n",
    "#for current_ax in axes:\n",
    "    #current_ax.plot(x,y)\n",
    "\n",
    "    \n",
    "axes[0].plot(t,y1,\"r\") #\"r\", change of color\n",
    "axes[0].set_title(\"1st plot\")\n",
    "axes[1].plot(t,y2)\n",
    "axes[1].set_title(\"2nd plot\")\n"
   ]
  },
  {
   "cell_type": "markdown",
   "metadata": {},
   "source": [
    "### Save a figure"
   ]
  },
  {
   "cell_type": "code",
   "execution_count": null,
   "metadata": {},
   "outputs": [],
   "source": [
    "#save a fig\n",
    "fig.savefig(\"my_filename.png\", dpi=200) #jpg,pdf or whatever you want"
   ]
  },
  {
   "cell_type": "markdown",
   "metadata": {},
   "source": [
    "### legend"
   ]
  },
  {
   "cell_type": "code",
   "execution_count": null,
   "metadata": {},
   "outputs": [],
   "source": [
    "\"\"\"\n",
    "Legends are another critical element for identifying plot elements. There are a couple\n",
    "of ways to add one. The easiest is to pass the label argument when adding each piece\n",
    "of the plot, for example: ax.plot(x,x**2, label=\"x squared\")\n",
    "\n",
    "\n",
    "Once you’ve done this, you can either call ax.legend() or plt.legend() to automatically\n",
    "create a legend\n",
    "\"\"\"\n",
    "\n",
    "fig = plt.figure()\n",
    "ax = fig.add_axes([0,0,1,1])\n",
    "ax.plot(x,x**2, label=\"x squared\") #specify labels for the legend\n",
    "ax.plot(x,x**3, label=\"x cubed\")\n",
    "\n",
    "ax.legend(loc=0)#to represnt the plots, loc=0 allows matplot to choose the best loc,  center, right\n",
    "#in order for this to work you need to specify in the ax.plot the labels as it is going to check if there is a label\n",
    "#ax.legend(loc=(0.1,0.1))"
   ]
  },
  {
   "cell_type": "markdown",
   "metadata": {},
   "source": [
    "## Customize your plot\n"
   ]
  },
  {
   "cell_type": "markdown",
   "metadata": {},
   "source": [
    "### Remove borders"
   ]
  },
  {
   "cell_type": "code",
   "execution_count": null,
   "metadata": {},
   "outputs": [],
   "source": [
    "\n",
    "fig = plt.figure()\n",
    "ax = fig.add_axes([0,0,1,1])\n",
    "ax.plot(x,y)\n",
    "\n",
    "#removing top and right borders\n",
    "ax.spines['top'].set_visible(False)\n",
    "ax.spines['right'].set_visible(False)"
   ]
  },
  {
   "cell_type": "markdown",
   "metadata": {},
   "source": [
    "### Add grid"
   ]
  },
  {
   "cell_type": "code",
   "execution_count": null,
   "metadata": {},
   "outputs": [],
   "source": [
    "\n",
    "fig = plt.figure()\n",
    "ax = fig.add_axes([0,0,1,1])\n",
    "ax.plot(x,y)\n",
    "  \n",
    "#adds major gridlines\n",
    "ax.grid(color='grey', linestyle='-', linewidth=0.25, alpha=0.5)"
   ]
  },
  {
   "cell_type": "code",
   "execution_count": null,
   "metadata": {},
   "outputs": [],
   "source": [
    "#Same example with subplots. \n",
    "#In the first one I added grid and in the second I removed the box\n",
    "\n",
    "\n",
    "fig, axes = plt.subplots(nrows=1, ncols=2, figsize=(10,2))\n",
    "plt.tight_layout() \n",
    "\n",
    "\n",
    "axes[0].plot(t,y1,\"b\") \n",
    "axes[0].set_title(\"1st plot\")\n",
    "axes[0].grid(color='grey', linestyle='-', linewidth=0.25, alpha=0.5)#grid\n",
    "\n",
    "axes[1].plot(t,y2)\n",
    "axes[1].set_title(\"2nd plot\")\n",
    "axes[1].spines['top'].set_visible(False)#remove all borders\n",
    "axes[1].spines['bottom'].set_visible(False)\n",
    "axes[1].spines['right'].set_visible(False)\n",
    "axes[1].spines['left'].set_visible(False)\n"
   ]
  },
  {
   "cell_type": "markdown",
   "metadata": {},
   "source": [
    "### Markers and colors"
   ]
  },
  {
   "cell_type": "code",
   "execution_count": null,
   "metadata": {},
   "outputs": [],
   "source": [
    "\"\"\"\n",
    "#linewidth or lw: thickness of the line, \n",
    "#alpha how transparent the line is, \n",
    "#linestyle or ls the linestyle, options: linestyles = ['-', '--', '-.', ':']\n",
    "#markers where the points are in the plot, https://matplotlib.org/3.3.0/api/markers_api.html\n",
    "\"\"\"\n",
    "\n",
    "fig = plt.figure()\n",
    "ax = fig.add_axes([0,0,1,1])\n",
    "#ax.plot(x,y, color=\"#FF8C00\") #RGB HEX CODES YOU CAN GOOGLE THEM\n",
    "ax.plot(x,y, color=\"purple\", linewidth=3, alpha=0.5, linestyle=\":\", marker=\"o\", markersize=10, \n",
    "markerfacecolor=\"yellow\", markeredgewidth=2, markeredgecolor=\"green\") \n",
    "\n"
   ]
  },
  {
   "cell_type": "markdown",
   "metadata": {},
   "source": [
    "### Axes range "
   ]
  },
  {
   "cell_type": "code",
   "execution_count": null,
   "metadata": {},
   "outputs": [],
   "source": [
    "\"\"\"\n",
    "You can also change  the x-axis and y-axis view limits by calling set_xlim and set_ylim respectively\n",
    "\"\"\"\n",
    "fig, axes = plt.subplots(1, 2, figsize=(12, 4))\n",
    "\n",
    "axes[0].plot(x, x**2, x, x**3)\n",
    "axes[0].set_title(\"default axes ranges\")\n",
    "axes[0].grid()\n",
    "\n",
    "axes[1].plot(x, x**2, x, x**3)\n",
    "axes[1].set_ylim([0, 80])\n",
    "axes[1].set_xlim([2, 5])\n",
    "axes[1].set_title(\"custom axes range\");"
   ]
  },
  {
   "cell_type": "code",
   "execution_count": null,
   "metadata": {},
   "outputs": [],
   "source": [
    "## More examples\n",
    "fig, ax = plt.subplots(figsize=(12,6))\n",
    "\n",
    "ax.plot(x, x+1, color=\"red\", linewidth=0.25)\n",
    "ax.plot(x, x+2, color=\"red\", linewidth=0.50)\n",
    "ax.plot(x, x+3, color=\"red\", linewidth=1.00)\n",
    "ax.plot(x, x+4, color=\"red\", linewidth=2.00)\n",
    "\n",
    "# possible linestype options ‘-‘, ‘–’, ‘-.’, ‘:’, ‘steps’\n",
    "ax.plot(x, x+5, color=\"green\", lw=3, linestyle='-')\n",
    "ax.plot(x, x+6, color=\"green\", lw=3, ls='-.')\n",
    "ax.plot(x, x+7, color=\"green\", lw=3, ls=':')\n",
    "\n",
    "# custom dash\n",
    "line, = ax.plot(x, x+8, color=\"black\", lw=1.50)\n",
    "line.set_dashes([5, 10, 15, 10]) # format: line length, space length, ...\n",
    "\n",
    "# possible marker symbols: marker = '+', 'o', '*', 's', ',', '.', '1', '2', '3', '4', ...\n",
    "ax.plot(x, x+ 9, color=\"blue\", lw=3, ls='-', marker='+')\n",
    "ax.plot(x, x+10, color=\"blue\", lw=3, ls='--', marker='o')\n",
    "ax.plot(x, x+11, color=\"blue\", lw=3, ls='-', marker='s')\n",
    "ax.plot(x, x+12, color=\"blue\", lw=3, ls='--', marker='1')\n",
    "\n",
    "# marker size and color\n",
    "ax.plot(x, x+13, color=\"purple\", lw=1, ls='-', marker='o', markersize=2)\n",
    "ax.plot(x, x+14, color=\"purple\", lw=1, ls='-', marker='o', markersize=4)\n",
    "ax.plot(x, x+15, color=\"purple\", lw=1, ls='-', marker='o', markersize=8, markerfacecolor=\"red\")\n",
    "ax.plot(x, x+16, color=\"purple\", lw=1, ls='-', marker='s', markersize=8, markerfacecolor=\"yellow\", markeredgewidth=3, markeredgecolor=\"green\");"
   ]
  },
  {
   "cell_type": "markdown",
   "metadata": {},
   "source": [
    "## Other plots with matplotlib"
   ]
  },
  {
   "cell_type": "code",
   "execution_count": null,
   "metadata": {},
   "outputs": [],
   "source": [
    "#Let's generate 100 random values \n",
    "pop = np.random.randint(0,100,100)"
   ]
  },
  {
   "cell_type": "markdown",
   "metadata": {},
   "source": [
    "### Histogram"
   ]
  },
  {
   "cell_type": "code",
   "execution_count": null,
   "metadata": {},
   "outputs": [],
   "source": [
    "plt.hist(pop)"
   ]
  },
  {
   "cell_type": "markdown",
   "metadata": {},
   "source": [
    "### Barchart"
   ]
  },
  {
   "cell_type": "code",
   "execution_count": null,
   "metadata": {},
   "outputs": [],
   "source": [
    "index = [0,1,2,3,4]\n",
    "values = [5,7,3,4,6]\n",
    "plt.bar(index,values)"
   ]
  },
  {
   "cell_type": "code",
   "execution_count": null,
   "metadata": {},
   "outputs": [],
   "source": [
    "### Barchart\n",
    "index = np.arange(5)\n",
    "values1 = [5,7,3,4,6]\n",
    "values2 = [6,6,4,5,7]\n",
    "values3 = [5,6,5,4,6]\n",
    "bw = 0.3 #the width of the bars, default is 0.8\n",
    "plt.axis([0,5,0,8])\n",
    "plt.title('A Multiseries Bar Chart',fontsize=20)\n",
    "plt.bar(index,values1,bw,color='b')\n",
    "plt.bar(index+bw,values2,bw,color='g')\n",
    "plt.bar(index+2*bw,values3,bw,color='r')\n",
    "plt.xticks(index+1.5*bw,['A','B','C','D','E'])"
   ]
  },
  {
   "cell_type": "markdown",
   "metadata": {},
   "source": [
    "### Boxplot"
   ]
  },
  {
   "cell_type": "code",
   "execution_count": null,
   "metadata": {},
   "outputs": [],
   "source": [
    "data = [np.random.normal(0, std, 100) for std in range(1, 4)]\n",
    "\n",
    "# rectangular box plot\n",
    "plt.boxplot(data,vert=True,patch_artist=True);   "
   ]
  },
  {
   "cell_type": "markdown",
   "metadata": {},
   "source": [
    "## 2.  Pandas Built-in data visualization"
   ]
  },
  {
   "cell_type": "markdown",
   "metadata": {},
   "source": [
    "Easy to use interface, built on Matplotlib"
   ]
  },
  {
   "cell_type": "code",
   "execution_count": null,
   "metadata": {},
   "outputs": [],
   "source": [
    "\"\"\"\n",
    "Let's first create a dataframe with categorical values\n",
    "\n",
    "Then we  can call the pandas plot with kind equals to bar to create a barplot. \n",
    "A bar plot shows comparisons among discrete categories.\n",
    "\n",
    "Here you can find all the different plots that you can create using the parameter kind = \"\"\n",
    "https://pandas.pydata.org/pandas-docs/version/0.23.4/generated/pandas.DataFrame.plot.html\n",
    "\n",
    "\"\"\"\n",
    "\n",
    "import pandas as pd \n",
    "data = {'series1':[1,3,4,3,5],'series2':[2,4,5,2,4],'series3':[3,2,3,1,3]}\n",
    "df = pd.DataFrame(data)\n",
    "\n",
    "\n",
    "df.plot(kind='bar')"
   ]
  },
  {
   "cell_type": "code",
   "execution_count": null,
   "metadata": {},
   "outputs": [],
   "source": [
    "##or a different way to visualize them is to put one on top of the other by calling stacked equals to True\n",
    "df.plot.bar(stacked=True)"
   ]
  },
  {
   "cell_type": "code",
   "execution_count": null,
   "metadata": {},
   "outputs": [],
   "source": [
    "#create a df with random numbers with random categories, floats and time_stamps\n",
    "import datetime\n",
    "df = pd.DataFrame({'A' : ['spam', 'eggs', 'spam', 'eggs'] * 250,\n",
    "                   'B' : ['alpha', 'beta', 'gamma', 'delta'] * 250,\n",
    "                   'C' : [np.random.choice(pd.date_range(datetime.datetime(2020,1,1),datetime.datetime(2020,6,3))) for i in range(1000)],\n",
    "                   'D' : np.random.randn(1000),\n",
    "                   'E' : np.random.randn(1000),\n",
    "                   'F' : np.random.randn(1000),\n",
    "                   'G' : np.random.random_integers(0,4,1000)})\n",
    "df2 = pd.DataFrame(np.random.randint(0,100,size=(10, 4)), columns=list('ABCD'))\n"
   ]
  },
  {
   "cell_type": "code",
   "execution_count": null,
   "metadata": {},
   "outputs": [],
   "source": [
    "\"\"\"\n",
    "Let's now draw a histgram for the column D!\n",
    "#A histogram is a representation of the distribution of data. This function groups the values of all given Series in the DataFrame into bins and draws all bins in one matplotlib.axes.Axes. This is useful when the DataFrame’s Series are in a similar scale.\n",
    "You can also specify the number of bins that you want using bins = ...\n",
    "\n",
    "\"\"\"\n",
    "\n",
    "\n",
    "plt.style.use('ggplot') #the \"ggplot\" style, adjusts the style to emulate ggplot (a popular plotting package for R).\n",
    "df[\"D\"].hist(bins=40)"
   ]
  },
  {
   "cell_type": "code",
   "execution_count": null,
   "metadata": {},
   "outputs": [],
   "source": [
    "df2.plot.bar()\n",
    "df2.plot.bar(stacked=True)"
   ]
  },
  {
   "cell_type": "code",
   "execution_count": null,
   "metadata": {},
   "outputs": [],
   "source": [
    "\"\"\"\n",
    "x: The column name or column position to be used as horizontal coordinates for each point.\n",
    "y: The column name or column position to be used as vertical coordinates for each point.\n",
    "s: The size of each point.\n",
    "cmap: colormap, choosing colormaps: https://matplotlib.org/3.2.1/tutorials/colors/colormaps.html\n",
    "\"\"\"\n",
    "\n",
    "df.plot.scatter(x='D',y='E', s=[14], cmap='coolwarm')\n"
   ]
  },
  {
   "cell_type": "code",
   "execution_count": null,
   "metadata": {},
   "outputs": [],
   "source": [
    "\"\"\"\n",
    "Only for the numerical attributes!\n",
    "\n",
    "\"\"\"\n",
    "\n",
    "df2.plot.box()"
   ]
  },
  {
   "cell_type": "markdown",
   "metadata": {},
   "source": [
    "## Kernel Density Estimation\n",
    "\n",
    "Intuitively, one can also think of a histogram as a stack of blocks, one block per point. By stacking the blocks in the appropriate grid space, we recover the histogram. But what if, instead of stacking the blocks on a regular grid, we center each block on the point it represents, and sum the total height at each location? This idea leads to the lower-left visualization. It is perhaps not as clean as a histogram, but the fact that the data drive the block locations mean that it is a much better representation of the underlying data.\n",
    "\n",
    "This visualization is an example of a kernel density estimation, in this case with a top-hat kernel (i.e. a square block at each point).\n",
    "\n",
    "https://scikit-learn.org/stable/modules/density.html"
   ]
  },
  {
   "cell_type": "code",
   "execution_count": null,
   "metadata": {},
   "outputs": [],
   "source": [
    "df2.plot.kde()"
   ]
  },
  {
   "cell_type": "markdown",
   "metadata": {},
   "source": [
    "## 3. Seaborn"
   ]
  },
  {
   "cell_type": "code",
   "execution_count": null,
   "metadata": {},
   "outputs": [],
   "source": [
    "\"\"\"\n",
    "Seaborn is a Python data visualization library based on matplotlib. It provides a high-level interface for drawing attractive and informative statistical graphics. \n",
    "\n",
    "Download seaborn: pip install seaborn\n",
    "\n",
    "See here an example gallery of seaborn plots: https://seaborn.pydata.org/examples/index.html\n",
    "\n",
    "\n",
    "A pairplot plots pairwise relationships in a dataset.\n",
    "\n",
    "\n",
    "data: Tidy (long-form) dataframe where each column is a variable and each row is an observation.\n",
    "\n",
    "hue: Variable in data to map plot aspects to different colors.\n",
    "\n",
    "\"\"\"\n",
    "\n",
    "\n",
    "import seaborn as sns\n",
    "sns.set(style=\"ticks\")\n",
    "\n",
    "#df = sns.load_dataset(\"iris\")\n",
    "sns.pairplot(data = df, hue=\"B\")"
   ]
  },
  {
   "cell_type": "markdown",
   "metadata": {},
   "source": [
    "# End of notebook for plotting"
   ]
  },
  {
   "cell_type": "code",
   "execution_count": null,
   "metadata": {},
   "outputs": [],
   "source": []
  }
 ],
 "metadata": {
  "language_info": {
   "codemirror_mode": {
    "name": "ipython",
    "version": 3
   },
   "file_extension": ".py",
   "mimetype": "text/x-python",
   "name": "python",
   "nbconvert_exporter": "python",
   "pygments_lexer": "ipython3",
   "version": "3.7.6-final"
  },
  "orig_nbformat": 2,
  "kernelspec": {
   "name": "python37664bit8aabbce7213d46d583b8372b926b889b",
   "display_name": "Python 3.7.6 64-bit"
  }
 },
 "nbformat": 4,
 "nbformat_minor": 2
}