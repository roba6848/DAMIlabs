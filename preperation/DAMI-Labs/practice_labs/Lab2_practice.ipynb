{
 "cells": [
  {
   "cell_type": "markdown",
   "metadata": {},
   "source": [
    "# DAMI 2020 \n",
    "## Clustering Categorical Data\n",
    "## Practice Assignment for Lab 2"
   ]
  },
  {
   "cell_type": "markdown",
   "metadata": {},
   "source": [
    "Data Set Information:\n",
    "\n",
    "The data is related with direct marketing campaigns of a Portuguese banking institution. The marketing campaigns were based on phone calls. Often, more than one contact to the same client was required, in order to access if the product (bank term deposit) would be ('yes') or not ('no') subscribed.\n",
    "\n",
    "Attribute Information:\n",
    "\n",
    "- age (numeric)\n",
    "\n",
    "\n",
    "- job : type of job (categorical: 'admin.','blue-collar','entrepreneur','housemaid','management','retired','self-employed','services','student','technician','unemployed','unknown')\n",
    "\n",
    "\n",
    "- marital : marital status (categorical: 'divorced','married','single','unknown'; note: 'divorced' means divorced or widowed)\n",
    "\n",
    "\n",
    "- education (categorical: 'basic.4y','basic.6y','basic.9y','high.school','illiterate','professional.course','university.degree','unknown')\n",
    "\n",
    "\n",
    "- default: has credit in default? (categorical: 'no','yes','unknown')\n",
    "\n",
    "\n",
    "- housing: has housing loan? (categorical: 'no','yes','unknown')\n",
    "\n",
    "\n",
    "\n",
    "- loan: has personal loan? (categorical: 'no','yes','unknown')\n",
    "\n",
    "\n",
    "related with the last contact of the current campaign:\n",
    "\n",
    "- contact: contact communication type (categorical: 'cellular','telephone')\n",
    "\n",
    "\n",
    "- month: last contact month of year (categorical: 'jan', 'feb', 'mar', ..., 'nov', 'dec')\n",
    "\n",
    "\n",
    "- day: last contact day of the week (categorical: 'mon','tue','wed','thu','fri')\n",
    "\n",
    "\n",
    "- duration: last contact duration, in seconds (numeric). Important note: this attribute highly affects the output target (e.g., if duration=0 then y='no'). Yet, the duration is not known before a call is performed. Also, after the end of the call y is obviously known. Thus, this input should only be included for benchmark purposes and should be discarded if the intention is to have a realistic predictive model.\n",
    "\n",
    "\n",
    "other attributes:\n",
    "\n",
    "\n",
    "- campaign: number of contacts performed during this campaign and for this client (numeric, includes last contact)\n",
    "\n",
    "\n",
    "- pdays: number of days that passed by after the client was last contacted from a previous campaign (numeric; 999 means client was not previously contacted)\n",
    "\n",
    "\n",
    "- previous: number of contacts performed before this campaign and for this client (numeric)\n",
    "\n",
    "\n",
    "- poutcome: outcome of the previous marketing campaign (categorical: 'failure','nonexistent','success')\n",
    "\n",
    "\n",
    "\n",
    "\n",
    "Output variable (desired target):\n",
    "\n",
    "\n",
    "- y has the client subscribed a term deposit? (binary: 'yes','no')\n",
    "\n",
    "\n"
   ]
  },
  {
   "cell_type": "markdown",
   "metadata": {},
   "source": [
    "1. Read the dataset"
   ]
  },
  {
   "cell_type": "code",
   "execution_count": null,
   "metadata": {},
   "outputs": [],
   "source": [
    "##import pandas and read the dataset names bank.csv and is under the datasets folder\n",
    "#note that you used include a seperator as a parameter of read_csv\n",
    "\n",
    "import pandas as pd\n",
    "\n",
    "data = pd.read_csv()\n"
   ]
  },
  {
   "cell_type": "code",
   "execution_count": null,
   "metadata": {},
   "outputs": [],
   "source": [
    "data"
   ]
  },
  {
   "cell_type": "markdown",
   "metadata": {},
   "source": [
    "2. Convert age into a categorical attribute"
   ]
  },
  {
   "cell_type": "code",
   "execution_count": null,
   "metadata": {},
   "outputs": [],
   "source": [
    "\"\"\"\n",
    "To do that use the method cut from pandas for the age column.\n",
    "Name the new column: age_bins\n",
    "the age bins should be: (0-19], (19-29], (29-39], (39-49], (49-59], (59-69], (69-79], (79-99]\n",
    "add labels to the bins: '0-19', '19-29', '29-39'... and so on      \n",
    "\"\"\"\n",
    "\n",
    "\n",
    "\n",
    "data['age_bins'] = "
   ]
  },
  {
   "cell_type": "markdown",
   "metadata": {},
   "source": [
    "3.  Plot a bar chart for the attribute age_bins, in relation to the class label (income). "
   ]
  },
  {
   "cell_type": "code",
   "execution_count": null,
   "metadata": {},
   "outputs": [],
   "source": [
    "\"\"\"\n",
    "Hint: Use the groupby method to groupby the age_bins and count the values of the class label. save this to a Series called by_age\n",
    "\n",
    "\n",
    "Create a barplot for this series with 'stacked=True'\n",
    "\"\"\"\n",
    "\n",
    "\n",
    "by_age = "
   ]
  },
  {
   "cell_type": "markdown",
   "metadata": {},
   "source": [
    "4. Check if there are null values"
   ]
  },
  {
   "cell_type": "code",
   "execution_count": null,
   "metadata": {},
   "outputs": [],
   "source": [
    "\n"
   ]
  },
  {
   "cell_type": "markdown",
   "metadata": {},
   "source": [
    "5. Create a copy of the dataset called data_categorical"
   ]
  },
  {
   "cell_type": "code",
   "execution_count": null,
   "metadata": {},
   "outputs": [],
   "source": [
    "\"\"\"\n",
    "Hint: Use the copy() method. \n",
    "\n",
    "Note for the copy() method:\n",
    "\n",
    "Make a copy of this object’s indices and data.\n",
    "\n",
    "When deep=True (default), a new object will be created with a copy of the calling object’s data and indices. Modifications to the data or indices of the copy will not be reflected in the original object (see notes below).\n",
    "\n",
    "When deep=False, a new object will be created without copying the calling object’s data or index (only references to the data and index are copied). Any changes to the data of the original will be reflected in the shallow copy (and vice versa).\n",
    "\n",
    "\n",
    "\"\"\"\n",
    "\n",
    "data_categorical = "
   ]
  },
  {
   "cell_type": "code",
   "execution_count": null,
   "metadata": {},
   "outputs": [],
   "source": []
  },
  {
   "cell_type": "markdown",
   "metadata": {},
   "source": [
    "6. From data_categorical drop all the numerical columns"
   ]
  },
  {
   "cell_type": "code",
   "execution_count": null,
   "metadata": {},
   "outputs": [],
   "source": []
  },
  {
   "cell_type": "code",
   "execution_count": null,
   "metadata": {},
   "outputs": [],
   "source": []
  },
  {
   "cell_type": "markdown",
   "metadata": {},
   "source": [
    "7. Use Label Encoder from sklearn to transform the categorical data into a machine learning readable form.\n",
    "\n",
    "**Label Encoding** refers to converting the labels into numeric form so as to convert it into the machine-readable form. Machine learning algorithms can then decide in a better way on how those labels must be operated. It is an important pre-processing step for the structured dataset in supervised learning.\n",
    "\n",
    "\n",
    "\n",
    "Reference: https://www.geeksforgeeks.org/ml-label-encoding-of-datasets-in-python/"
   ]
  },
  {
   "cell_type": "code",
   "execution_count": null,
   "metadata": {},
   "outputs": [],
   "source": [
    "\"\"\"\n",
    "Initialize the LabelEncoder Object\n",
    "\n",
    "Use fit_transform to encode the data_categorical dataset\n",
    "\n",
    "Hint: Use apply() in order to encode each of the categorical columns of the dataframe:\n",
    " \n",
    "\n",
    "\"\"\"\n",
    "\n",
    "\n",
    "from sklearn import preprocessing\n",
    "label_encoder = "
   ]
  },
  {
   "cell_type": "markdown",
   "metadata": {},
   "source": [
    "## KMODES\n",
    "\n",
    "\n",
    "K-means cannot be used with this matrix because k-means explicitly minimizes within-cluster variance (squared distances from the mean) as defined in Euclidean space. \n",
    "\n",
    "The distance metric used for K-modes is instead the Hamming distance from information theory. The Hamming distance (or dissimilarity) between two rows is simply the number of columns where the two rows differ.\n",
    "\n",
    "The k-modes algorithm tries to minimize the sum of within-cluster Hamming distance from the mode of that cluster, summed over all clusters. \n",
    "\n",
    "\n"
   ]
  },
  {
   "cell_type": "code",
   "execution_count": null,
   "metadata": {
    "tags": []
   },
   "outputs": [],
   "source": [
    "# Importing KModes\n",
    "\n",
    "# To download it:  pip install kmodes\n",
    "\n",
    "from kmodes.kmodes import KModes"
   ]
  },
  {
   "cell_type": "markdown",
   "metadata": {},
   "source": [
    "8. Choose the right number of clusters by running the elbow method for Kmodes"
   ]
  },
  {
   "cell_type": "code",
   "execution_count": null,
   "metadata": {
    "tags": []
   },
   "outputs": [],
   "source": [
    "\"\"\"\n",
    "Step1: create a list where you will store the the cost for each number of clusters, which is stored as an attribute of Kmodes object\n",
    "Step2: in a for loop that goes through the values of K (number of clusters) one by one, run Kmodes for each of these values\n",
    "Step3: calculate the cost of each clustering and store in the list from step 1\n",
    "Step4: plot the resulting elbow, in x-axis: the number of clusters and in y-axis: the cost\n",
    "\n",
    "\n",
    "\"\"\"\n",
    "\n",
    "\n",
    "\n",
    "cost = []\n",
    "K = range(1,5)\n",
    "for k in K:\n",
    "    #insert your code here \n",
    "\n",
    "\n",
    "plt.figure(figsize=(16,8))\n",
    "#insert the code for plotting here\n"
   ]
  },
  {
   "cell_type": "markdown",
   "metadata": {},
   "source": [
    "9. After choosing the best number of clusters run Kmodes for this number of clusters"
   ]
  },
  {
   "cell_type": "code",
   "execution_count": null,
   "metadata": {
    "tags": []
   },
   "outputs": [],
   "source": []
  },
  {
   "cell_type": "markdown",
   "metadata": {},
   "source": [
    "10. Attach the predicted labels to the original dataframe (the one called data) as a new column named Kmodes_labels"
   ]
  },
  {
   "cell_type": "code",
   "execution_count": null,
   "metadata": {},
   "outputs": [],
   "source": [
    "#you can use pd.concat\n",
    "\n"
   ]
  },
  {
   "cell_type": "markdown",
   "metadata": {},
   "source": [
    "11. Plot a bar chart for the attribute KModes_labels, in relation to the the marital status. "
   ]
  },
  {
   "cell_type": "code",
   "execution_count": null,
   "metadata": {},
   "outputs": [],
   "source": []
  },
  {
   "cell_type": "markdown",
   "metadata": {},
   "source": [
    "# End of practice assignment 2"
   ]
  },
  {
   "cell_type": "code",
   "execution_count": null,
   "metadata": {},
   "outputs": [],
   "source": []
  }
 ],
 "metadata": {
  "language_info": {
   "codemirror_mode": {
    "name": "ipython",
    "version": 3
   },
   "file_extension": ".py",
   "mimetype": "text/x-python",
   "name": "python",
   "nbconvert_exporter": "python",
   "pygments_lexer": "ipython3",
   "version": "3.7.4-final"
  },
  "orig_nbformat": 2,
  "kernelspec": {
   "name": "python_defaultSpec_1598118124424",
   "display_name": "Python 3.7.7 64-bit ('myenv': conda)"
  }
 },
 "nbformat": 4,
 "nbformat_minor": 2
}