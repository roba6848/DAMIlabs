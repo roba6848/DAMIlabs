{
 "cells": [
  {
   "cell_type": "markdown",
   "metadata": {},
   "source": [
    "# Lab 0: Introduction to Python\n",
    "\n",
    "In the first videos, we explained:\n",
    "- Main files that are included with a traditional Python installation\n",
    "- How to access the Python interpreter from the console\n",
    "- How to call functions, create variables and use python console as a calculator.\n",
    "\n",
    "Then, we explained we ran the Python interpreter from a `py` script to:\n",
    "- Create organized *Header Blocks*.\n",
    "- Conditionals\n",
    "- Explore main Data Structures\n",
    "- Loops\n",
    "- Functions\n",
    "- Import Python packages with PIP\n",
    "\n",
    "See the file in `dami_dsv/introduction/intro.py` to see a summary of the codes."
   ]
  },
  {
   "cell_type": "markdown",
   "metadata": {},
   "source": [
    "## Jupyter Notebooks\n",
    "\n",
    "In this section, we continue explaining conditionals, loops and functions using Jupyter notebooks.\n",
    "\n",
    "- IPython is a kernel behind Jupyter notebooks that makes working interactively convenient and efficient.\n",
    "- It is the way to go when is about Scientific Computing and Data Mining\n",
    "- Allows to combine codes with text through `MarkDown` language and $\\LaTeX$\n",
    "\n",
    "For example, some repositories with Jupyter notebooks are:\n",
    "\n",
    "- https://github.com/jupyter/jupyter/wiki/A-gallery-of-interesting-Jupyter-Notebooks\n",
    "- https://nbviewer.jupyter.org/\n",
    "\n"
   ]
  },
  {
   "cell_type": "markdown",
   "metadata": {},
   "source": [
    "# Activity: Design of Custom Modules from Jupyter\n",
    "\n",
    "All the `grading` from the homeworks will require the student to **design their own functions and place them in specific files**. As a practice, we will explain here how to create a function to calculate the mean in a multidimensional `numpy` array. This function is already incorporated in the numpy package, but we will use it as a simple example to learn how to design functions from a Jupyter notebook, and then place them in external modules.\n",
    "\n",
    "The lab comprises these steps:\n",
    "- Construction of 2D arrays in `numpy`\n",
    "- Create a function to calculate the `mean` of the array per axis\n",
    "- Test the function in Jupyter notebook\n",
    "- Copy the function to an external module\n",
    "- Execute the function from the external module"
   ]
  },
  {
   "cell_type": "code",
   "execution_count": null,
   "metadata": {},
   "outputs": [],
   "source": [
    "import numpy as np\n",
    "\n",
    "# Import custom package for the course\n",
    "import dami_dsv.introduction.my_functions"
   ]
  },
  {
   "cell_type": "markdown",
   "metadata": {},
   "source": [
    "## Create 2D array\n",
    "\n",
    "Create a 2D numpy array with size `(10,5)`. The numbers to fill in the array are created pseudo-randomly."
   ]
  },
  {
   "cell_type": "code",
   "execution_count": null,
   "metadata": {},
   "outputs": [],
   "source": [
    "# Guarantees that the pseudo-random process is always going to show the same results. Provides repeatability of experiments\n",
    "np.random.seed(12345)"
   ]
  },
  {
   "cell_type": "code",
   "execution_count": null,
   "metadata": {},
   "outputs": [],
   "source": [
    "array_in_2D = np.random.randint(0, 100, size=(10,5))\n",
    "array_in_2D"
   ]
  },
  {
   "cell_type": "code",
   "execution_count": null,
   "metadata": {},
   "outputs": [],
   "source": [
    "# Example of how to access a specific value\n",
    "# Access to the list in the index 2 (i.e. [91,80,73,11,77]), and then the element in the index 3. (i.e. 11)\n",
    "array_in_2D[2,3] "
   ]
  },
  {
   "cell_type": "code",
   "execution_count": null,
   "metadata": {},
   "outputs": [],
   "source": [
    "array_in_2D.shape # Method to extract the size of the numpy array"
   ]
  },
  {
   "cell_type": "code",
   "execution_count": null,
   "metadata": {},
   "outputs": [],
   "source": [
    "array_in_2D.max() # Function to calculate the maximum in the array"
   ]
  },
  {
   "cell_type": "code",
   "execution_count": null,
   "metadata": {},
   "outputs": [],
   "source": [
    "array_in_2D.mean() # Calculate the mean over all the elements"
   ]
  },
  {
   "cell_type": "markdown",
   "metadata": {},
   "source": [
    "## Create a function to calculate the `mean` of the array per axis\n",
    "\n",
    "The function needs to have a parameter `axis` which can take either None, 0 or 1. If None, it averages over all elements. If 0, it averages vertically downwards across rows (in our example, result is an array of length 5). If 1, it averages horizontally across columns (in our example, result is an array of length 10).\n",
    "\n",
    "**NOTE: The concept of `axis` in numpy arrays is one of the most important concepts for data analysis, but at the same time one of the hardest to comprehend. Please refer to the [official explanation](https://docs.scipy.org/doc/numpy-1.10.0/glossary.html) to familiarize yourself with this parameter.** "
   ]
  },
  {
   "cell_type": "code",
   "execution_count": null,
   "metadata": {},
   "outputs": [],
   "source": [
    "def calculate_mean_2D_array(input_array, axis=None):\n",
    "    \"\"\"\n",
    "    This function uses numpy methods to calculate the \n",
    "    mean of a 2D numpy array according to the specified axis.\n",
    "\n",
    "    Input:\n",
    "        input_array: 2D numpy array\n",
    "        axis: Defines how to perform the calculation of the mean\n",
    "            axis=None (default) - Average all the values in the array\n",
    "            axis=0 - running vertically downwards across rows\n",
    "            axis=1 - running horizontally across columns\n",
    "    Output:\n",
    "        A single value (if axis=None) or an array containing\n",
    "        the mean of the elements along the specified axis\n",
    "    \"\"\"\n",
    "\n",
    "    # Local Variables\n",
    "    result = None   # This variable will contain the final result\n",
    "\n",
    "    # Help variables for the function\n",
    "    nrows, ncols = input_array.shape # Extracts the size of the array\n",
    "    N = nrows * ncols\n",
    "\n",
    "    # Average over all the elements\n",
    "    if axis == None:\n",
    "        # Help variable to store cumulative sum\n",
    "        cumsum = 0\n",
    "        # Access each row from the array\n",
    "        for i in range(nrows):\n",
    "            # Access each value from the row\n",
    "            for j in range(ncols):\n",
    "                # Add to the cumulative sum\n",
    "                cumsum += input_array[i,j]\n",
    "        # Calculate total average\n",
    "        result = cumsum / N\n",
    "\n",
    "    # Average vertically downwards across rows\n",
    "    elif axis == 0:\n",
    "        # The result is a list, in which we will append respective values \n",
    "        result = []\n",
    "        # Access each row from the array\n",
    "        for j in range(ncols):\n",
    "            # Sum ALL the elements from the column\n",
    "            #   and divide by number of elements\n",
    "            average = input_array[:,j].sum() / nrows\n",
    "            # Append the value to the result\n",
    "            result.append(average)\n",
    "        # Convert from list to numpy array\n",
    "        result = np.array(result)\n",
    "\n",
    "    # Average horizontally across columns\n",
    "    elif axis == 1:\n",
    "        # The result is a list, in which we will append respective values \n",
    "        result = []\n",
    "        # Access each row from the array\n",
    "        for i in range(nrows):\n",
    "            # Sum ALL the elements from the row\n",
    "            #   and divide by number of elements\n",
    "            average = input_array[i,:].sum() / ncols\n",
    "            # Append the value to the result\n",
    "            result.append(average)\n",
    "        # Convert from list to numpy array\n",
    "        result = np.array(result) # Convert from list to numpy array\n",
    "    \n",
    "    # Return the variable to the object that called this function\n",
    "    return result"
   ]
  },
  {
   "cell_type": "markdown",
   "metadata": {},
   "source": [
    "## Test the function from the Jupyter notebook"
   ]
  },
  {
   "cell_type": "code",
   "execution_count": null,
   "metadata": {},
   "outputs": [],
   "source": [
    "# Result custom function with no specific axis\n",
    "calculate_mean_2D_array(array_in_2D)"
   ]
  },
  {
   "cell_type": "code",
   "execution_count": null,
   "metadata": {},
   "outputs": [],
   "source": [
    "calculate_mean_2D_array(array_in_2D, axis=0)"
   ]
  },
  {
   "cell_type": "code",
   "execution_count": null,
   "metadata": {},
   "outputs": [],
   "source": [
    "calculate_mean_2D_array(array_in_2D, axis=1)"
   ]
  },
  {
   "cell_type": "markdown",
   "metadata": {},
   "source": [
    "### Compare the result with built-in function\n",
    "\n",
    "The function that we have created already exists in numpy (see [here](https://numpy.org/doc/stable/reference/generated/numpy.mean.html)).\n",
    "\n",
    "Then we can use the implemented function to validate our results, we just need to call the method `.mean()` and the parameter `axis`."
   ]
  },
  {
   "cell_type": "code",
   "execution_count": null,
   "metadata": {},
   "outputs": [],
   "source": [
    "# Result of mean among all elements\n",
    "array_in_2D.mean()"
   ]
  },
  {
   "cell_type": "code",
   "execution_count": null,
   "metadata": {},
   "outputs": [],
   "source": [
    "# Result of mean in axis 0 []\n",
    "array_in_2D.mean(axis=0)"
   ]
  },
  {
   "cell_type": "code",
   "execution_count": null,
   "metadata": {},
   "outputs": [],
   "source": [
    "# Result of mean in axis 1\n",
    "array_in_2D.mean(axis=1)"
   ]
  },
  {
   "cell_type": "markdown",
   "metadata": {},
   "source": [
    "As we can see, the results from our custom function `calculate_mean(input_array, axis=0)` returns the same values than the built-in function `array_in_2D.mean(axis=0)`."
   ]
  },
  {
   "cell_type": "markdown",
   "metadata": {},
   "source": [
    "## Copy the function to an external module\n",
    "\n",
    "Now, we copy the function that was created before to an external module in the folder `dami_dsv/introduction/my_functions.py`. This enhances readability of the main code."
   ]
  },
  {
   "cell_type": "markdown",
   "metadata": {},
   "source": [
    "## Execute the function from the external module\n",
    "\n",
    "To work with the function is important to import the correct file. In this case, we need to import the external module using `import dami_dsv.introduction.my_functions`\n",
    "\n",
    "This allows us to access the function `calculate_mean_2D_array()`, not from the current notebook but from the file `my_functions.py`"
   ]
  },
  {
   "cell_type": "code",
   "execution_count": null,
   "metadata": {},
   "outputs": [],
   "source": [
    "dami_dsv.introduction.my_functions.calculate_mean_2D_array(array_in_2D)"
   ]
  },
  {
   "cell_type": "code",
   "execution_count": null,
   "metadata": {},
   "outputs": [],
   "source": [
    "dami_dsv.introduction.my_functions.calculate_mean_2D_array(array_in_2D, axis=0)"
   ]
  },
  {
   "cell_type": "code",
   "execution_count": null,
   "metadata": {},
   "outputs": [],
   "source": [
    "dami_dsv.introduction.my_functions.calculate_mean_2D_array(array_in_2D, axis=1)"
   ]
  },
  {
   "cell_type": "markdown",
   "metadata": {},
   "source": [
    "# Final Remark:\n",
    "- If you call `calculate_mean_2D_array()`, the function that was created in the cell `[8]` will be executed, which was created directly from the Jupyter notebook.\n",
    "- If you call `dami_dsv.introduction.my_functions.calculate_mean_2D_array()`, the function that will be executed is stored in the external module. Keep this in mind because **MOST OF THE HOMEWORKS WILL ASK TO MOVE YOUR FUNCTIONS TO A SEPARATE FILE TO FACILITATE THE GRADING.**"
   ]
  },
  {
   "cell_type": "markdown",
   "metadata": {},
   "source": [
    "# End of Lab 0"
   ]
  }
 ],
 "metadata": {
  "kernelspec": {
   "name": "python37664bit8aabbce7213d46d583b8372b926b889b",
   "display_name": "Python 3.7.6 64-bit"
  }
 },
 "nbformat": 4,
 "nbformat_minor": 4
}